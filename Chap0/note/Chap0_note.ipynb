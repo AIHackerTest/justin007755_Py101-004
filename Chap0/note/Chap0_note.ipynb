{
 "cells": [
  {
   "cell_type": "markdown",
   "metadata": {},
   "source": [
    "1）要搞清楚Python3和Python2的主要区别点\n",
    "    a.) 首先一点是关于print的用法，在Python3里print是一个函数，所以要带括号。\n",
    "    b.) 关于除法运算符号的应用，要注意是不是需要Python2里的地板除，否则容易得到错误的结果，比如ex3练习的“Now I will count the eggs:”，这个结\n",
    "    果肯定不能是小数。\n",
    "    c.) Python3里没有raw_input()了，直接用input()即可。\n",
    "    d.) 在格式化输出时，如果用%r来format，那么如果用键盘输入数字5，则输出为'5',这就是raw的格式。"
   ]
  },
  {
   "cell_type": "code",
   "execution_count": 1,
   "metadata": {
    "collapsed": false
   },
   "outputs": [
    {
     "name": "stdout",
     "output_type": "stream",
     "text": [
      "Step 1 completed!\n"
     ]
    }
   ],
   "source": [
    "print(\"Step 1 completed!\")"
   ]
  }
 ],
 "metadata": {
  "kernelspec": {
   "display_name": "Python 3",
   "language": "python",
   "name": "python3"
  },
  "language_info": {
   "codemirror_mode": {
    "name": "ipython",
    "version": 3
   },
   "file_extension": ".py",
   "mimetype": "text/x-python",
   "name": "python",
   "nbconvert_exporter": "python",
   "pygments_lexer": "ipython3",
   "version": "3.6.0"
  }
 },
 "nbformat": 4,
 "nbformat_minor": 2
}
